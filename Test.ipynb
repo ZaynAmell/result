{
 "cells": [
  {
   "cell_type": "code",
   "execution_count": 1,
   "metadata": {},
   "outputs": [],
   "source": [
    "file='20200917_guppi_59046_53079_001660_J0825-5010_0001-ics.rawspec.0000.combined.fil'"
   ]
  },
  {
   "cell_type": "code",
   "execution_count": 2,
   "metadata": {},
   "outputs": [],
   "source": [
    "%matplotlib inline\n",
    "import pylab as plt\n",
    "from blimpy import Waterfall"
   ]
  },
  {
   "cell_type": "code",
   "execution_count": 3,
   "metadata": {},
   "outputs": [],
   "source": [
    "test=Waterfall(file)"
   ]
  },
  {
   "cell_type": "code",
   "execution_count": 4,
   "metadata": {},
   "outputs": [
    {
     "data": {
      "text/plain": [
       "(array([ 856.        ,  856.20898438,  856.41796875, ..., 1497.37304688,\n",
       "        1497.58203125, 1497.79101562]),\n",
       " array([[292522.12 ,  13124.256,  13145.54 , ...,  39680.414,  41392.902,\n",
       "          43924.14 ],\n",
       "        [ 41721.24 ,  39116.93 ,  39151.902, ...,  63911.57 ,  64003.26 ,\n",
       "          63868.91 ],\n",
       "        [ 63910.875,  63901.47 ,  63844.91 , ...,  75657.375,  75547.83 ,\n",
       "          75732.04 ],\n",
       "        ...,\n",
       "        [ 59638.023,  56741.707,  56498.37 , ...,  64096.746,  63998.613,\n",
       "          63988.715],\n",
       "        [ 63891.65 ,  63949.766,  63986.72 , ...,  75675.09 ,  75565.81 ,\n",
       "          75714.02 ],\n",
       "        [ 73225.336,  73109.75 ,  73075.82 , ...,  87672.03 ,  87808.36 ,\n",
       "          87669.56 ]], dtype=float32))"
      ]
     },
     "execution_count": 4,
     "metadata": {},
     "output_type": "execute_result"
    }
   ],
   "source": [
    "test.grab_data()"
   ]
  },
  {
   "cell_type": "code",
   "execution_count": 6,
   "metadata": {},
   "outputs": [
    {
     "ename": "AttributeError",
     "evalue": "'Waterfall' object has no attribute 'f_start'",
     "output_type": "error",
     "traceback": [
      "\u001b[0;31m---------------------------------------------------------------------------\u001b[0m",
      "\u001b[0;31mAttributeError\u001b[0m                            Traceback (most recent call last)",
      "\u001b[0;32m<ipython-input-6-64d7e0d72b0c>\u001b[0m in \u001b[0;36m<module>\u001b[0;34m\u001b[0m\n\u001b[0;32m----> 1\u001b[0;31m \u001b[0mtest\u001b[0m\u001b[0;34m.\u001b[0m\u001b[0mf_start\u001b[0m\u001b[0;34m\u001b[0m\u001b[0;34m\u001b[0m\u001b[0m\n\u001b[0m",
      "\u001b[0;31mAttributeError\u001b[0m: 'Waterfall' object has no attribute 'f_start'"
     ]
    }
   ],
   "source": [
    "test.header.n"
   ]
  },
  {
   "cell_type": "code",
   "execution_count": null,
   "metadata": {},
   "outputs": [],
   "source": []
  }
 ],
 "metadata": {
  "kernelspec": {
   "display_name": "Python 3",
   "language": "python",
   "name": "python3"
  },
  "language_info": {
   "codemirror_mode": {
    "name": "ipython",
    "version": 3
   },
   "file_extension": ".py",
   "mimetype": "text/x-python",
   "name": "python",
   "nbconvert_exporter": "python",
   "pygments_lexer": "ipython3",
   "version": "3.7.6"
  }
 },
 "nbformat": 4,
 "nbformat_minor": 4
}
