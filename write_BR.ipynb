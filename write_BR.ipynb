{
 "cells": [
  {
   "cell_type": "code",
   "execution_count": 2,
   "metadata": {},
   "outputs": [],
   "source": [
    "%matplotlib inline\n",
    "import pylab as plt\n",
    "from blimpy import Waterfall\n",
    "import numpy as np\n",
    "from scipy import interpolate\n",
    "import peakutils\n",
    "import rfi\n",
    "import turbo_seti\n",
    "import pandas as pd\n",
    "import BaselineRemoval\n",
    "from scipy.sparse import csc_matrix, eye, diags\n",
    "from scipy.sparse.linalg import spsolve\n",
    "import scipy\n",
    "import os\n",
    "from astropy.time import Time\n",
    "from astropy import units as u\n",
    "import matplotlib\n",
    "import time"
   ]
  },
  {
   "cell_type": "code",
   "execution_count": 3,
   "metadata": {},
   "outputs": [],
   "source": [
    "def MJD_time(w):\n",
    "    for key, val in w.file_header.items():\n",
    "        if key == 'src_raj':\n",
    "            val = val.to_string(unit=u.hour, sep=':')\n",
    "        if key == 'src_dej':\n",
    "            val = val.to_string(unit=u.deg, sep=':')\n",
    "        if key in ('foff', 'fch1'):\n",
    "            val *= u.MHz\n",
    "        if key == 'tstart':\n",
    "            #print(\"%16s : %32s\" % (\"tstart (ISOT)\", Time(val, format='mjd').isot))\n",
    "            key = \"tstart (MJD)\"\n",
    "            return  Time(val, format='mjd').isot"
   ]
  },
  {
   "cell_type": "code",
   "execution_count": 4,
   "metadata": {},
   "outputs": [
    {
     "data": {
      "text/plain": [
       "45"
      ]
     },
     "execution_count": 4,
     "metadata": {},
     "output_type": "execute_result"
    }
   ],
   "source": [
    "path='data/BR/'\n",
    "files=os.listdir(path)\n",
    "#files.remove('.ipynb_checkpoints')\n",
    "len(files)"
   ]
  },
  {
   "cell_type": "code",
   "execution_count": 5,
   "metadata": {},
   "outputs": [],
   "source": [
    "wf=[]\n",
    "j=0\n",
    "for i in files:\n",
    "    #print(j)\n",
    "    wf.append(Waterfall(path+i))\n",
    "    j+=1\n",
    "name=[]\n",
    "j=0\n",
    "for i in wf:\n",
    "    name.append([i.container.f_stop-i.container.f_start,files[j]])\n",
    "    j+=1\n",
    "name.sort(reverse=True)\n",
    "wf=[]\n",
    "for i in name:\n",
    "    wf.append(Waterfall(path+i[1]))\n",
    "# for i in wf:\n",
    "#     print(i.container.f_start)"
   ]
  },
  {
   "cell_type": "code",
   "execution_count": 7,
   "metadata": {},
   "outputs": [
    {
     "name": "stdout",
     "output_type": "stream",
     "text": [
      "42 3\n"
     ]
    }
   ],
   "source": [
    "a1=0\n",
    "a2=0\n",
    "for i in wf:\n",
    "    if i.container.f_start<=856.0:\n",
    "        a1+=1\n",
    "    else:\n",
    "        a2+=1\n",
    "print(a1,a2)"
   ]
  },
  {
   "cell_type": "code",
   "execution_count": 9,
   "metadata": {},
   "outputs": [],
   "source": [
    "data=pd.DataFrame()\n",
    "data['source_name']=[]\n",
    "data['time(MJD)']=[]\n",
    "data['src_raj']=[]\n",
    "data['f_range(MHz)']=[]\n",
    "data['RFI(MHz)']=[]\n",
    "j=0\n",
    "for i in wf:\n",
    "    a=i.header['source_name']\n",
    "    b=i.header['tstart']\n",
    "    c=i.header['src_raj']\n",
    "    d=(i.container.f_begin,i.container.f_end)\n",
    "    e=rfi.rfi_range(i,dist=10)\n",
    "    data.loc[j]=[a,b,c,d,e]\n",
    "    j+=1\n",
    "    #print(j)\n",
    "data.to_latex('RFI_BR.tex',index=False)\n",
    "data.to_csv('RFI_BR.csv',index=False)"
   ]
  },
  {
   "cell_type": "code",
   "execution_count": 10,
   "metadata": {},
   "outputs": [
    {
     "name": "stdout",
     "output_type": "stream",
     "text": [
      "43 33 29\n"
     ]
    }
   ],
   "source": [
    "a=0\n",
    "b=0\n",
    "c=0\n",
    "for i in data['RFI(MHz)']:\n",
    "    for j in i:\n",
    "        if ((j[0]>880)&(j[0]<970)) or ((j[1]>880)&(j[1]<970)):\n",
    "            a+=1\n",
    "            break\n",
    "for i in data['RFI(MHz)']:\n",
    "    for j in i:\n",
    "        if ((j[0]>1120)&(j[0]<1300)) or ((j[1]>1120)&(j[1]<1300)):\n",
    "            b+=1\n",
    "            break\n",
    "for i in data['RFI(MHz)']:\n",
    "    for j in i:\n",
    "        if ((j[0]>1400)&(j[0]<1610)) or ((j[1]>1400)&(j[1]<1610)):\n",
    "            c+=1\n",
    "            break\n",
    "print(a,b,c)"
   ]
  },
  {
   "cell_type": "code",
   "execution_count": 14,
   "metadata": {},
   "outputs": [
    {
     "data": {
      "image/png": "[encoded data removed]",
      "text/plain": [
       "<Figure size 1050x750 with 1 Axes>"
      ]
     },
     "metadata": {
      "needs_background": "light"
     },
     "output_type": "display_data"
    }
   ],
   "source": [
    "j=1\n",
    "plt.figure(figsize=(7,5),dpi=150)\n",
    "for i in data['RFI(MHz)']:\n",
    "    for k in i:\n",
    "        plt.hlines(j,k[0],k[1],color='dodgerblue')\n",
    "    j+=1\n",
    "plt.plot([],[],color='dodgerblue',label='RFI')\n",
    "# plt.vlines(880,0,50,'dodgerblue',linestyles='--')\n",
    "# plt.vlines(960,0,50,'dodgerblue',linestyles='--')\n",
    "# plt.vlines(1120,0,28,'dodgerblue',linestyles='--')\n",
    "# plt.vlines(1300,0,28,'dodgerblue',linestyles='--')\n",
    "# plt.vlines(1400,0,28,'dodgerblue',linestyles='--')\n",
    "# plt.vlines(1610,0,28,'dodgerblue',linestyles='--')\n",
    "# plt.bar(700,50,width=312,color='w',hatch='/',label='UHF-band')\n",
    "# plt.bar(972,50,width=232,color='w',hatch='X',label='UHF and L overlap')\n",
    "# plt.bar(1400,50,width=624,color='w',hatch=\"\\\\\",label='L-band')\n",
    "# plt.text(900,50,str(a)+' obs')\n",
    "# plt.text(1190,28,str(b)+' obs')\n",
    "# plt.text(1490,28,str(c)+' obs')\n",
    "plt.ylabel('Number of observation')\n",
    "plt.xlabel('Frequency (MHz)')\n",
    "plt.legend()\n",
    "plt.savefig('plots/after_mid/RFI_vs_File_BR.pdf')"
   ]
  },
  {
   "cell_type": "code",
   "execution_count": 7,
   "metadata": {},
   "outputs": [],
   "source": [
    "j=1\n",
    "plt.figure(figsize=(10,4*len(wf)),dpi=100)\n",
    "for i in wf:\n",
    "    plt.subplot(len(wf),1,j)\n",
    "    f,p,base=rfi.base(i)\n",
    "    maxi=np.amax(rm)\n",
    "    multi=1.0\n",
    "    if maxi>10000:\n",
    "        multi=multi/10\n",
    "    thres=multi*rm.std()\n",
    "    plt.plot(f,base+thres,label='Threshold')\n",
    "    if i.container.f_start>=856.0:\n",
    "        plt.text(1128,np.amax(p)*0.025,'L-Band at '+time(i)+' from '+i.header['source_name'],size=5,ha='center',fontsize=10)\n",
    "    else:\n",
    "        plt.text(1128,np.amax(p)*0.025,'UHF-Band at '+time(i)+' from '+i.header['source_name'],size=5,ha='center',fontsize=10)\n",
    "    #plotting\n",
    "    plt.plot(f,p,'k',label='Observed')\n",
    "    plt.plot(f,base,'r--',label='Fitted')\n",
    "    RFI=rfi.rfi_range(i,multi=2.0)\n",
    "    tot=0\n",
    "    for k in RFI:\n",
    "        if k[1]-k[0]>i.header['foff']:\n",
    "            plt.bar((k[1]+k[0])/2,np.amax(rm),width=k[1]-k[0],color='lime')\n",
    "        else:\n",
    "            plt.vlines(k[0],0,np.amax(rm),'lime')\n",
    "        tot+=(k[1]-k[0])\n",
    "#     plt.text(1128,np.amax(p)*0.9,\n",
    "#              str(j)+'Identified RFI covers '+str(np.round(tot/(i.container.f_stop-i.container.f_start)*100,decimals=2))+'% of given bandwidth'\n",
    "#              ,size=5,ha='center')\n",
    "    plt.gca().xaxis.set_minor_locator(matplotlib.ticker.MultipleLocator(20))\n",
    "    plt.grid()\n",
    "    plt.grid(which='minor',color='whitesmoke')\n",
    "    plt.xlim(544,1712)\n",
    "    plt.ylim(-100,np.amax(p)*0.025)\n",
    "    #plt.yscale('log')\n",
    "    plt.legend()\n",
    "    j+=1\n",
    "plt.savefig('plots/after_mid/all_fitting_BR.pdf',bbox_inches = 'tight')\n",
    "plt.close()"
   ]
  },
  {
   "cell_type": "code",
   "execution_count": 6,
   "metadata": {},
   "outputs": [
    {
     "name": "stdout",
     "output_type": "stream",
     "text": [
      "This takes 49.745206117630005 (s)\n"
     ]
    }
   ],
   "source": [
    "start=time.time()\n",
    "j=1\n",
    "multi=0.8\n",
    "plt.figure(figsize=(10,4*len(wf)),dpi=100)\n",
    "for i in wf:\n",
    "    plt.subplot(len(wf),1,j)\n",
    "    f,p,base=rfi.base(i)\n",
    "    test=rfi.rfi_range(i,multi=multi)\n",
    "    plt.plot(f,p,'k',label='Power')\n",
    "    plt.plot(f,base,'r--',label='Baseline')\n",
    "    for k in test:\n",
    "        if k[1]-k[0]>i.header['foff']:\n",
    "            plt.bar((k[1]+k[0])/2,np.amax(p-base),width=k[1]-k[0],color='lime')\n",
    "        else:\n",
    "            plt.vlines(k[0],0,np.amax(p-base),'lime')\n",
    "    thres=(p-base).std()*multi/10\n",
    "    plt.plot(f,base+thres,label='Threshold')\n",
    "    if i.container.f_start>=856.0:\n",
    "        plt.text(1128,np.amax(p)*multi/50,'L-Band at '+MJD_time(i)+' from '+i.header['source_name'],size=5,ha='center',fontsize=10)\n",
    "    else:\n",
    "        plt.text(1128,np.amax(p)*multi/50,'UHF-Band at '+MJD_time(i)+' from '+i.header['source_name'],size=5,ha='center',fontsize=10)\n",
    "    plt.gca().xaxis.set_minor_locator(matplotlib.ticker.MultipleLocator(20))\n",
    "    plt.grid()\n",
    "    plt.grid(which='minor',color='whitesmoke')\n",
    "    plt.xlim(544,1712)\n",
    "    plt.ylim(-100,np.amax(p)*multi/50)\n",
    "    plt.legend()\n",
    "    j+=1\n",
    "plt.savefig('plots/after_mid/all_fitting_BR.pdf',bbox_inches = 'tight')\n",
    "plt.close()\n",
    "end=time.time()\n",
    "print('This takes '+str(end-start)+' (s)')"
   ]
  },
  {
   "cell_type": "code",
   "execution_count": 26,
   "metadata": {},
   "outputs": [
    {
     "name": "stdout",
     "output_type": "stream",
     "text": [
      "extracting integration 0...\n"
     ]
    },
    {
     "data": {
      "text/plain": [
       "(-100.0, 2000.0)"
      ]
     },
     "execution_count": 26,
     "metadata": {},
     "output_type": "execute_result"
    },
    {
     "data": {
      "image/png": "[encoded data removed]",
      "text/plain": [
       "<Figure size 432x288 with 1 Axes>"
      ]
     },
     "metadata": {
      "needs_background": "light"
     },
     "output_type": "display_data"
    }
   ],
   "source": [
    "wf[0].plot_spectrum(f_start=1650)\n",
    "plt.ylim(-100,2000)"
   ]
  },
  {
   "cell_type": "code",
   "execution_count": null,
   "metadata": {},
   "outputs": [],
   "source": [
    "wf[4]"
   ]
  }
 ],
 "metadata": {
  "kernelspec": {
   "display_name": "Python 3",
   "language": "python",
   "name": "python3"
  },
  "language_info": {
   "codemirror_mode": {
    "name": "ipython",
    "version": 3
   },
   "file_extension": ".py",
   "mimetype": "text/x-python",
   "name": "python",
   "nbconvert_exporter": "python",
   "pygments_lexer": "ipython3",
   "version": "3.8.10"
  }
 },
 "nbformat": 4,
 "nbformat_minor": 4
}
