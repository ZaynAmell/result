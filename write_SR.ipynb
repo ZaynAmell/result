{
 "cells": [
  {
   "cell_type": "code",
   "execution_count": 2,
   "metadata": {},
   "outputs": [],
   "source": [
    "%matplotlib inline\n",
    "import pylab as plt\n",
    "from blimpy import Waterfall\n",
    "import numpy as np\n",
    "from scipy import interpolate\n",
    "import peakutils\n",
    "import rfi\n",
    "import turbo_seti\n",
    "import pandas as pd\n",
    "import BaselineRemoval\n",
    "from scipy.sparse import csc_matrix, eye, diags\n",
    "from scipy.sparse.linalg import spsolve\n",
    "import scipy\n",
    "import os\n",
    "from astropy.time import Time\n",
    "from astropy import units as u\n",
    "import matplotlib"
   ]
  },
  {
   "cell_type": "code",
   "execution_count": 3,
   "metadata": {},
   "outputs": [],
   "source": [
    "def time(w):\n",
    "    for key, val in w.file_header.items():\n",
    "        if key == 'src_raj':\n",
    "            val = val.to_string(unit=u.hour, sep=':')\n",
    "        if key == 'src_dej':\n",
    "            val = val.to_string(unit=u.deg, sep=':')\n",
    "        if key in ('foff', 'fch1'):\n",
    "            val *= u.MHz\n",
    "        if key == 'tstart':\n",
    "            #print(\"%16s : %32s\" % (\"tstart (ISOT)\", Time(val, format='mjd').isot))\n",
    "            key = \"tstart (MJD)\"\n",
    "            return  Time(val, format='mjd').isot"
   ]
  },
  {
   "cell_type": "code",
   "execution_count": 4,
   "metadata": {},
   "outputs": [
    {
     "data": {
      "text/plain": [
       "32"
      ]
     },
     "execution_count": 4,
     "metadata": {},
     "output_type": "execute_result"
    }
   ],
   "source": [
    "path='data/SR/'\n",
    "files=os.listdir(path)\n",
    "#files.remove('.ipynb_checkpoints')\n",
    "len(files)"
   ]
  },
  {
   "cell_type": "code",
   "execution_count": 5,
   "metadata": {},
   "outputs": [
    {
     "name": "stdout",
     "output_type": "stream",
     "text": [
      "1284.0\n",
      "1284.0\n",
      "1284.0\n",
      "1284.0\n",
      "952.0\n",
      "952.0\n",
      "952.0\n",
      "952.0\n",
      "952.0\n",
      "952.0\n",
      "952.0\n",
      "952.0\n",
      "952.0\n",
      "856.0\n",
      "856.0\n",
      "856.0\n",
      "856.0\n",
      "856.0\n",
      "856.0\n",
      "856.0\n",
      "856.0\n",
      "856.0\n",
      "856.0\n",
      "856.0\n",
      "816.0\n",
      "816.0\n",
      "816.0\n",
      "680.0\n",
      "680.0\n",
      "544.0\n",
      "544.0\n",
      "544.0\n"
     ]
    }
   ],
   "source": [
    "wf=[]\n",
    "j=0\n",
    "for i in files:\n",
    "    #print(j)\n",
    "    wf.append(Waterfall(path+i))\n",
    "    j+=1\n",
    "name=[]\n",
    "j=0\n",
    "for i in wf:\n",
    "    name.append([i.container.f_start,files[j]])\n",
    "    j+=1\n",
    "name.sort(reverse=True)\n",
    "wf=[]\n",
    "for i in name:\n",
    "    wf.append(Waterfall(path+i[1]))"
   ]
  },
  {
   "cell_type": "code",
   "execution_count": 20,
   "metadata": {},
   "outputs": [
    {
     "name": "stdout",
     "output_type": "stream",
     "text": [
      "1284.0 1498.0\n",
      "1284.0 1471.25\n",
      "1284.0 1498.0\n",
      "1284.0 1471.25\n",
      "952.0 1088.0\n",
      "952.0 1088.0\n",
      "952.0 1088.0\n",
      "952.0 1088.0\n",
      "952.0 1088.0\n",
      "952.0 1088.0\n",
      "952.0 1088.0\n",
      "952.0 1088.0\n",
      "952.0 1088.0\n",
      "856.0 1043.25\n",
      "856.0 1070.0\n",
      "856.0 1070.0\n",
      "856.0 1043.25\n",
      "856.0 1016.5\n",
      "856.0 1043.25\n",
      "856.0 1016.5\n",
      "856.0 1043.25\n",
      "856.0 1016.5\n",
      "856.0 1016.5\n",
      "856.0 1070.0\n",
      "816.0 952.0\n",
      "816.0 952.0\n",
      "816.0 952.0\n",
      "680.0 816.0\n",
      "680.0 816.0\n",
      "544.0 680.0\n",
      "544.0 680.0\n",
      "544.0 680.0\n"
     ]
    }
   ],
   "source": [
    "for i in wf:\n",
    "    print(i.container.f_start,i.container.f_stop)"
   ]
  },
  {
   "cell_type": "code",
   "execution_count": 14,
   "metadata": {},
   "outputs": [
    {
     "name": "stdout",
     "output_type": "stream",
     "text": [
      "11\n"
     ]
    }
   ],
   "source": [
    "j=0\n",
    "for i in wf:\n",
    "    if i.container.f_start==856.0:\n",
    "        j+=1\n",
    "print(j)"
   ]
  },
  {
   "cell_type": "code",
   "execution_count": 6,
   "metadata": {},
   "outputs": [
    {
     "name": "stdout",
     "output_type": "stream",
     "text": [
      "WARING max iteration reached!\n"
     ]
    }
   ],
   "source": [
    "data=pd.DataFrame()\n",
    "data['source_name']=[]\n",
    "data['time(MJD)']=[]\n",
    "data['src_raj']=[]\n",
    "data['f_range(MHz)']=[]\n",
    "data['RFI(MHz)']=[]\n",
    "j=0\n",
    "for i in wf:\n",
    "    a=i.header['source_name']\n",
    "    b=i.header['tstart']\n",
    "    c=i.header['src_raj']\n",
    "    d=(i.container.f_begin,i.container.f_end)\n",
    "    e=rfi.rfi_range(i,dist=50)\n",
    "    data.loc[j]=[a,b,c,d,e]\n",
    "    j+=1\n",
    "    #print(j)\n",
    "data.to_latex('RFI_SR.tex',index=False)\n",
    "data.to_csv('RFI_SR.csv',index=False)"
   ]
  },
  {
   "cell_type": "code",
   "execution_count": 7,
   "metadata": {},
   "outputs": [
    {
     "name": "stdout",
     "output_type": "stream",
     "text": [
      "22 4 4\n"
     ]
    }
   ],
   "source": [
    "a=0\n",
    "b=0\n",
    "c=0\n",
    "for i in data['RFI(MHz)']:\n",
    "    for j in i:\n",
    "        if ((j[0]>880)&(j[0]<970)) or ((j[1]>880)&(j[1]<970)):\n",
    "            a+=1\n",
    "            break\n",
    "for i in data['RFI(MHz)']:\n",
    "    for j in i:\n",
    "        if ((j[0]>1120)&(j[0]<1300)) or ((j[1]>1120)&(j[1]<1300)):\n",
    "            b+=1\n",
    "            break\n",
    "for i in data['RFI(MHz)']:\n",
    "    for j in i:\n",
    "        if ((j[0]>1400)&(j[0]<1610)) or ((j[1]>1400)&(j[1]<1610)):\n",
    "            c+=1\n",
    "            break\n",
    "print(a,b,c)"
   ]
  },
  {
   "cell_type": "code",
   "execution_count": 8,
   "metadata": {},
   "outputs": [
    {
     "data": {
      "image/png": "[encoded data removed]",
      "text/plain": [
       "<Figure size 1050x750 with 1 Axes>"
      ]
     },
     "metadata": {
      "needs_background": "light"
     },
     "output_type": "display_data"
    }
   ],
   "source": [
    "j=1\n",
    "plt.figure(figsize=(7,5),dpi=150)\n",
    "for i in data['RFI(MHz)']:\n",
    "    for k in i:\n",
    "        plt.hlines(j,k[0],k[1],color='dodgerblue')\n",
    "    j+=1\n",
    "plt.plot([],[],color='dodgerblue',label='RFI')\n",
    "# plt.vlines(880,0,50,'dodgerblue',linestyles='--')\n",
    "# plt.vlines(960,0,50,'dodgerblue',linestyles='--')\n",
    "# plt.vlines(1120,0,28,'dodgerblue',linestyles='--')\n",
    "# plt.vlines(1300,0,28,'dodgerblue',linestyles='--')\n",
    "# plt.vlines(1400,0,28,'dodgerblue',linestyles='--')\n",
    "# plt.vlines(1610,0,28,'dodgerblue',linestyles='--')\n",
    "# plt.bar(700,50,width=312,color='w',hatch='/',label='UHF-band')\n",
    "# plt.bar(972,50,width=232,color='w',hatch='X',label='UHF and L overlap')\n",
    "# plt.bar(1400,50,width=624,color='w',hatch=\"\\\\\",label='L-band')\n",
    "# plt.text(900,50,str(a)+' obs')\n",
    "# plt.text(1190,28,str(b)+' obs')\n",
    "# plt.text(1490,28,str(c)+' obs')\n",
    "plt.ylabel('Number of observation')\n",
    "plt.xlabel('Frequency (MHz)')\n",
    "plt.legend()\n",
    "plt.savefig('plots/after_mid/RFI_vs_File_SR.pdf')"
   ]
  },
  {
   "cell_type": "code",
   "execution_count": 38,
   "metadata": {},
   "outputs": [],
   "source": [
    "j=1\n",
    "fig1=plt.figure(figsize=(10,4*4),dpi=100)\n",
    "for i in wf[:4]:\n",
    "    if i.container.f_start==(856.0 or 544.0): #remove the first index for a better fitting\n",
    "        f=i.get_power()[0][1:]\n",
    "        p=i.get_power()[1][1:]\n",
    "    else:\n",
    "        f=i.get_power()[0]\n",
    "        p=i.get_power()[1]\n",
    "    #Different situation:\n",
    "    plt.subplot(4,1,j)\n",
    "    snr=p.mean()/p.std()\n",
    "    if snr>15:\n",
    "        base=rfi.splbase(f,p)\n",
    "        rm=p-base\n",
    "    elif snr>6:\n",
    "        r,base=rfi.peakbase(f,p)\n",
    "        p=r\n",
    "        rm=r-base\n",
    "    elif snr>3:\n",
    "        base=rfi.splbase(f,p)\n",
    "        rm=p-base\n",
    "    elif snr>1.6:\n",
    "        r,base=rfi.peakbase(f,p,deg=6)\n",
    "        p=r\n",
    "        rm=r-base\n",
    "    else:\n",
    "        r,base=rfi.peakbase(f,p,deg=10)\n",
    "        p=r\n",
    "        rm=r-base\n",
    "    #print(np.amax(p))\n",
    "    maxi=np.amax(rm)\n",
    "    multi=2.5\n",
    "    if maxi>10000:\n",
    "        multi=multi/10\n",
    "    thres=multi*rm.std()\n",
    "    plt.plot(f,base+thres,label='Threshold')\n",
    "    index_1=np.where((f>=544.0)&(f<=650.0))\n",
    "    index_2=np.where((f>=856.0)&(f<=920.0))\n",
    "    index_3=np.where((f>=960.0)&(f<=1088.0))\n",
    "    index_4=np.where((f>=1650.0)&(f<=1712.0))\n",
    "    p[index_1]=base[index_1]\n",
    "    if i.container.f_start==856.0:\n",
    "        p[index_2]=base[index_2]\n",
    "    if np.round(i.container.f_stop,decimals=1)==1088.0:\n",
    "        p[index_3]=base[index_3]\n",
    "    p[index_4]=base[index_4]\n",
    "    #plotting\n",
    "    plt.plot(f,p,'k',label='Observed')\n",
    "    plt.plot(f,base,'r--',label='Fitted')\n",
    "    RFI=rfi.rfi_range(i,dist=10)\n",
    "    tot=0\n",
    "    for k in RFI:\n",
    "        plt.bar((k[1]+k[0])/2,height=np.amax(p)-np.amin(base),color='lime',width=(k[1]-k[0]),bottom=np.amin(base))\n",
    "        tot+=(k[1]-k[0])\n",
    "#     plt.text(1128,np.amax(p)*0.9,\n",
    "#              str(j)+'Identified RFI covers '+str(np.round(tot/(i.container.f_stop-i.container.f_start)*100,decimals=2))+'% of given bandwidth'\n",
    "#              ,size=5,ha='center')\n",
    "    plt.gca().xaxis.set_minor_locator(matplotlib.ticker.MultipleLocator(20))\n",
    "    plt.grid()\n",
    "    plt.grid(which='minor',color='whitesmoke')\n",
    "    plt.xlim(1284.0,1498.0)\n",
    "    plt.text(1391,2000,'L-Band at '+time(i)+' from '+i.header['source_name'],size=5,ha='center',fontsize=10)\n",
    "    #plt.yscale('log')\n",
    "    plt.legend()\n",
    "        #plt.ylim(np.amin(base),np.amax(p))\n",
    "    #     if j!=49:\n",
    "    #         plt.xticks([])\n",
    "    #     plt.subplots_adjust(hspace=0)\n",
    "        #print(j)\n",
    "    j+=1\n",
    "plt.savefig('plots/after_mid/all_fitting_SR_1.pdf',bbox_inches = 'tight')\n",
    "plt.close()"
   ]
  },
  {
   "cell_type": "code",
   "execution_count": 39,
   "metadata": {},
   "outputs": [],
   "source": [
    "j=1\n",
    "fig2=plt.figure(figsize=(10,4*9),dpi=100)\n",
    "for i in wf[4:13]:\n",
    "    if i.container.f_start==(856.0 or 544.0): #remove the first index for a better fitting\n",
    "        f=i.get_power()[0][1:]\n",
    "        p=i.get_power()[1][1:]\n",
    "    else:\n",
    "        f=i.get_power()[0]\n",
    "        p=i.get_power()[1]\n",
    "    #Different situation:\n",
    "    plt.subplot(9,1,j)\n",
    "    snr=p.mean()/p.std()\n",
    "    if snr>15:\n",
    "        base=rfi.splbase(f,p)\n",
    "        rm=p-base\n",
    "    elif snr>6:\n",
    "        r,base=rfi.peakbase(f,p)\n",
    "        p=r\n",
    "        rm=r-base\n",
    "    elif snr>3:\n",
    "        base=rfi.splbase(f,p)\n",
    "        rm=p-base\n",
    "    elif snr>1.6:\n",
    "        r,base=rfi.peakbase(f,p,deg=6)\n",
    "        p=r\n",
    "        rm=r-base\n",
    "    else:\n",
    "        r,base=rfi.peakbase(f,p,deg=10)\n",
    "        p=r\n",
    "        rm=r-base\n",
    "    #print(np.amax(p))\n",
    "    maxi=np.amax(rm)\n",
    "    multi=2.5\n",
    "    if maxi>10000:\n",
    "        multi=multi/10\n",
    "    thres=multi*rm.std()\n",
    "    plt.plot(f,base+thres,label='Threshold')\n",
    "    index_1=np.where((f>=544.0)&(f<=650.0))\n",
    "    index_2=np.where((f>=856.0)&(f<=920.0))\n",
    "    index_3=np.where((f>=960.0)&(f<=1088.0))\n",
    "    index_4=np.where((f>=1650.0)&(f<=1712.0))\n",
    "    p[index_1]=base[index_1]\n",
    "    if i.container.f_start==856.0:\n",
    "        p[index_2]=base[index_2]\n",
    "    if np.round(i.container.f_stop,decimals=1)==1088.0:\n",
    "        p[index_3]=base[index_3]\n",
    "    p[index_4]=base[index_4]\n",
    "    #plotting\n",
    "    plt.plot(f,p,'k',label='Observed')\n",
    "    plt.plot(f,base,'r--',label='Fitted')\n",
    "    RFI=rfi.rfi_range(i,dist=10)\n",
    "    tot=0\n",
    "    for k in RFI:\n",
    "        plt.bar((k[1]+k[0])/2,height=np.amax(p)-np.amin(base),color='lime',width=(k[1]-k[0]),bottom=np.amin(base))\n",
    "        tot+=(k[1]-k[0])\n",
    "#     plt.text(1128,np.amax(p)*0.9,\n",
    "#              str(j)+'Identified RFI covers '+str(np.round(tot/(i.container.f_stop-i.container.f_start)*100,decimals=2))+'% of given bandwidth'\n",
    "#              ,size=5,ha='center')\n",
    "    plt.gca().xaxis.set_minor_locator(matplotlib.ticker.MultipleLocator(20))\n",
    "    plt.grid()\n",
    "    plt.grid(which='minor',color='whitesmoke')\n",
    "    plt.xlim(952.0,1088.0)\n",
    "    plt.text(1020.0,2000,'L-Band at '+time(i)+' from '+i.header['source_name'],size=5,ha='center',fontsize=10)\n",
    "    #plt.yscale('log')\n",
    "    plt.legend()\n",
    "        #plt.ylim(np.amin(base),np.amax(p))\n",
    "    #     if j!=49:\n",
    "    #         plt.xticks([])\n",
    "    #     plt.subplots_adjust(hspace=0)\n",
    "        #print(j)\n",
    "    j+=1\n",
    "plt.savefig('plots/after_mid/all_fitting_SR_2.pdf',bbox_inches = 'tight')\n",
    "plt.close()"
   ]
  },
  {
   "cell_type": "code",
   "execution_count": 40,
   "metadata": {},
   "outputs": [
    {
     "name": "stdout",
     "output_type": "stream",
     "text": [
      "WARING max iteration reached!\n",
      "WARING max iteration reached!\n"
     ]
    }
   ],
   "source": [
    "j=1\n",
    "fig3=plt.figure(figsize=(10,4*11),dpi=100)\n",
    "for i in wf[13:24]:\n",
    "    if i.container.f_start==(856.0 or 544.0): #remove the first index for a better fitting\n",
    "        f=i.get_power()[0][1:]\n",
    "        p=i.get_power()[1][1:]\n",
    "    else:\n",
    "        f=i.get_power()[0]\n",
    "        p=i.get_power()[1]\n",
    "    #Different situation:\n",
    "    plt.subplot(11,1,j)\n",
    "    snr=p.mean()/p.std()\n",
    "    if snr>15:\n",
    "        base=rfi.splbase(f,p)\n",
    "        rm=p-base\n",
    "    elif snr>6:\n",
    "        r,base=rfi.peakbase(f,p)\n",
    "        p=r\n",
    "        rm=r-base\n",
    "    elif snr>3:\n",
    "        base=rfi.splbase(f,p)\n",
    "        rm=p-base\n",
    "    elif snr>1.6:\n",
    "        r,base=rfi.peakbase(f,p,deg=6)\n",
    "        p=r\n",
    "        rm=r-base\n",
    "    else:\n",
    "        r,base=rfi.peakbase(f,p,deg=10)\n",
    "        p=r\n",
    "        rm=r-base\n",
    "    #print(np.amax(p))\n",
    "    maxi=np.amax(rm)\n",
    "    multi=2.5\n",
    "    if maxi>10000:\n",
    "        multi=multi/10\n",
    "    thres=multi*rm.std()\n",
    "    plt.plot(f,base+thres,label='Threshold')\n",
    "    index_1=np.where((f>=544.0)&(f<=650.0))\n",
    "    index_2=np.where((f>=856.0)&(f<=920.0))\n",
    "    index_3=np.where((f>=960.0)&(f<=1088.0))\n",
    "    index_4=np.where((f>=1650.0)&(f<=1712.0))\n",
    "    p[index_1]=base[index_1]\n",
    "    if i.container.f_start==856.0:\n",
    "        p[index_2]=base[index_2]\n",
    "    if np.round(i.container.f_stop,decimals=1)==1088.0:\n",
    "        p[index_3]=base[index_3]\n",
    "    p[index_4]=base[index_4]\n",
    "    #plotting\n",
    "    plt.plot(f,p,'k',label='Observed')\n",
    "    plt.plot(f,base,'r--',label='Fitted')\n",
    "    RFI=rfi.rfi_range(i,dist=10)\n",
    "    tot=0\n",
    "    for k in RFI:\n",
    "        plt.bar((k[1]+k[0])/2,height=np.amax(p)-np.amin(base),color='lime',width=(k[1]-k[0]),bottom=np.amin(base))\n",
    "        tot+=(k[1]-k[0])\n",
    "#     plt.text(1128,np.amax(p)*0.9,\n",
    "#              str(j)+'Identified RFI covers '+str(np.round(tot/(i.container.f_stop-i.container.f_start)*100,decimals=2))+'% of given bandwidth'\n",
    "#              ,size=5,ha='center')\n",
    "    plt.gca().xaxis.set_minor_locator(matplotlib.ticker.MultipleLocator(20))\n",
    "    plt.grid()\n",
    "    plt.grid(which='minor',color='whitesmoke')\n",
    "    plt.xlim(856.0,1070.0)\n",
    "    plt.text(963.0,np.amax(p)*0.1,'L-Band at '+time(i)+' from '+i.header['source_name'],size=5,ha='center',fontsize=10)\n",
    "    if j!=11:\n",
    "        plt.ylim(-100,np.amax(p)*0.1)\n",
    "    #plt.yscale('log')\n",
    "    plt.legend()\n",
    "    j+=1\n",
    "plt.savefig('plots/after_mid/all_fitting_SR_3.pdf',bbox_inches = 'tight')\n",
    "plt.close()"
   ]
  },
  {
   "cell_type": "code",
   "execution_count": 41,
   "metadata": {},
   "outputs": [],
   "source": [
    "j=1\n",
    "fig4=plt.figure(figsize=(10,4*8),dpi=100)\n",
    "for i in wf[24:]:\n",
    "    if i.container.f_start==(856.0 or 544.0): #remove the first index for a better fitting\n",
    "        f=i.get_power()[0][1:]\n",
    "        p=i.get_power()[1][1:]\n",
    "    else:\n",
    "        f=i.get_power()[0]\n",
    "        p=i.get_power()[1]\n",
    "    #Different situation:\n",
    "    plt.subplot(8,1,j)\n",
    "    snr=p.mean()/p.std()\n",
    "    if snr>15:\n",
    "        base=rfi.splbase(f,p)\n",
    "        rm=p-base\n",
    "    elif snr>6:\n",
    "        r,base=rfi.peakbase(f,p)\n",
    "        p=r\n",
    "        rm=r-base\n",
    "    elif snr>3:\n",
    "        base=rfi.splbase(f,p)\n",
    "        rm=p-base\n",
    "    elif snr>1.6:\n",
    "        r,base=rfi.peakbase(f,p,deg=6)\n",
    "        p=r\n",
    "        rm=r-base\n",
    "    else:\n",
    "        r,base=rfi.peakbase(f,p,deg=10)\n",
    "        p=r\n",
    "        rm=r-base\n",
    "    #print(np.amax(p))\n",
    "    maxi=np.amax(rm)\n",
    "    multi=2.5\n",
    "    if maxi>10000:\n",
    "        multi=multi/10\n",
    "    thres=multi*rm.std()\n",
    "    plt.plot(f,base+thres,label='Threshold')\n",
    "    index_1=np.where((f>=544.0)&(f<=650.0))\n",
    "    index_2=np.where((f>=856.0)&(f<=920.0))\n",
    "    index_3=np.where((f>=960.0)&(f<=1088.0))\n",
    "    index_4=np.where((f>=1650.0)&(f<=1712.0))\n",
    "    p[index_1]=base[index_1]\n",
    "    if i.container.f_start==856.0:\n",
    "        p[index_2]=base[index_2]\n",
    "    if np.round(i.container.f_stop,decimals=1)==1088.0:\n",
    "        p[index_3]=base[index_3]\n",
    "    p[index_4]=base[index_4]\n",
    "    #plotting\n",
    "    plt.plot(f,p,'k',label='Observed')\n",
    "    plt.plot(f,base,'r--',label='Fitted')\n",
    "    RFI=rfi.rfi_range(i,dist=10)\n",
    "    tot=0\n",
    "    for k in RFI:\n",
    "        plt.bar((k[1]+k[0])/2,height=np.amax(p)-np.amin(base),color='lime',width=(k[1]-k[0]),bottom=np.amin(base))\n",
    "        tot+=(k[1]-k[0])\n",
    "#     plt.text(1128,np.amax(p)*0.9,\n",
    "#              str(j)+'Identified RFI covers '+str(np.round(tot/(i.container.f_stop-i.container.f_start)*100,decimals=2))+'% of given bandwidth'\n",
    "#              ,size=5,ha='center')\n",
    "    plt.gca().xaxis.set_minor_locator(matplotlib.ticker.MultipleLocator(20))\n",
    "    plt.grid()\n",
    "    plt.grid(which='minor',color='whitesmoke')\n",
    "    plt.xlim(544.0,952.0)\n",
    "    plt.text(748,np.amax(p),'UHF-Band at '+time(i)+' from '+i.header['source_name'],size=5,ha='center',fontsize=10)\n",
    "#     plt.ylim(ymax=)\n",
    "    #plt.yscale('log')\n",
    "    plt.legend()\n",
    "    j+=1\n",
    "plt.savefig('plots/after_mid/all_fitting_SR_4.pdf',bbox_inches = 'tight')\n",
    "plt.close()"
   ]
  },
  {
   "cell_type": "code",
   "execution_count": 45,
   "metadata": {},
   "outputs": [
    {
     "name": "stdout",
     "output_type": "stream",
     "text": [
      "13.832037\n",
      "6.665604\n",
      "6.075773\n",
      "14.108901\n",
      "1.6670731\n",
      "1.6797107\n",
      "1.6012288\n",
      "1.6834681\n",
      "1.6803585\n",
      "1.692287\n",
      "1.6827079\n",
      "1.6863177\n",
      "1.6831537\n",
      "0.34967363\n",
      "0.38748193\n",
      "0.3559275\n",
      "0.9542952\n",
      "0.8871236\n",
      "0.8031865\n",
      "0.44247103\n",
      "0.4515714\n",
      "0.30148992\n",
      "0.9369558\n",
      "0.22241098\n",
      "0.40273055\n",
      "0.30928886\n",
      "0.29347262\n",
      "16.576675\n",
      "25.754492\n",
      "3.031362\n",
      "3.0714831\n",
      "3.0305967\n"
     ]
    }
   ],
   "source": [
    "for i in wf:\n",
    "    print(i.get_power()[1].mean()/i.get_power()[1].std())"
   ]
  },
  {
   "cell_type": "code",
   "execution_count": 44,
   "metadata": {},
   "outputs": [
    {
     "name": "stdout",
     "output_type": "stream",
     "text": [
      "extracting integration 0...\n"
     ]
    },
    {
     "data": {
      "image/png": "[encoded data removed]",
      "text/plain": [
       "<Figure size 432x288 with 1 Axes>"
      ]
     },
     "metadata": {
      "needs_background": "light"
     },
     "output_type": "display_data"
    }
   ],
   "source": [
    "wf[-4].plot_spectrum()"
   ]
  },
  {
   "cell_type": "code",
   "execution_count": 47,
   "metadata": {},
   "outputs": [
    {
     "name": "stdout",
     "output_type": "stream",
     "text": [
      "extracting integration 0...\n"
     ]
    },
    {
     "data": {
      "image/png": "[encoded data removed]",
      "text/plain": [
       "<Figure size 432x288 with 1 Axes>"
      ]
     },
     "metadata": {
      "needs_background": "light"
     },
     "output_type": "display_data"
    }
   ],
   "source": [
    "wf[13].plot_spectrum(f_start=910)"
   ]
  },
  {
   "cell_type": "code",
   "execution_count": 66,
   "metadata": {},
   "outputs": [
    {
     "data": {
      "text/plain": [
       "[<matplotlib.lines.Line2D at 0x7f692471bbe0>]"
      ]
     },
     "execution_count": 66,
     "metadata": {},
     "output_type": "execute_result"
    },
    {
     "data": {
      "image/png": "[encoded data removed]",
      "text/plain": [
       "<Figure size 432x288 with 1 Axes>"
      ]
     },
     "metadata": {
      "needs_background": "light"
     },
     "output_type": "display_data"
    }
   ],
   "source": [
    "f=wf[14].get_power()[0]\n",
    "p=wf[14].get_power()[1]\n",
    "index=np.where(f>910)\n",
    "f=f[index]\n",
    "p=p[index]\n",
    "rm=BaselineRemoval.BaselineRemoval(p).ZhangFit()\n",
    "rm=np.where(rm<0,0,rm)\n",
    "base=peakutils.baseline(rm,deg=10)\n",
    "plt.ylim(-100,1000)\n",
    "#plt.plot(f,p,f,base,'--')\n",
    "plt.plot(f,rm-base)"
   ]
  },
  {
   "cell_type": "code",
   "execution_count": 67,
   "metadata": {},
   "outputs": [
    {
     "ename": "ValueError",
     "evalue": "not enough values to unpack (expected 3, got 2)",
     "output_type": "error",
     "traceback": [
      "\u001b[0;31m---------------------------------------------------------------------------\u001b[0m",
      "\u001b[0;31mValueError\u001b[0m                                Traceback (most recent call last)",
      "\u001b[0;32m<ipython-input-67-400bb23196a7>\u001b[0m in \u001b[0;36m<module>\u001b[0;34m\u001b[0m\n\u001b[0;32m----> 1\u001b[0;31m \u001b[0mf\u001b[0m\u001b[0;34m,\u001b[0m\u001b[0mp\u001b[0m\u001b[0;34m,\u001b[0m\u001b[0mbase\u001b[0m\u001b[0;34m=\u001b[0m\u001b[0mrfi\u001b[0m\u001b[0;34m.\u001b[0m\u001b[0mbase\u001b[0m\u001b[0;34m(\u001b[0m\u001b[0mwf\u001b[0m\u001b[0;34m[\u001b[0m\u001b[0;36m14\u001b[0m\u001b[0;34m]\u001b[0m\u001b[0;34m)\u001b[0m\u001b[0;34m\u001b[0m\u001b[0;34m\u001b[0m\u001b[0m\n\u001b[0m",
      "\u001b[0;31mValueError\u001b[0m: not enough values to unpack (expected 3, got 2)"
     ]
    }
   ],
   "source": [
    "f,p,base=rfi.base(wf[14])"
   ]
  },
  {
   "cell_type": "code",
   "execution_count": null,
   "metadata": {},
   "outputs": [],
   "source": []
  }
 ],
 "metadata": {
  "kernelspec": {
   "display_name": "Python 3",
   "language": "python",
   "name": "python3"
  },
  "language_info": {
   "codemirror_mode": {
    "name": "ipython",
    "version": 3
   },
   "file_extension": ".py",
   "mimetype": "text/x-python",
   "name": "python",
   "nbconvert_exporter": "python",
   "pygments_lexer": "ipython3",
   "version": "3.8.10"
  }
 },
 "nbformat": 4,
 "nbformat_minor": 4
}
